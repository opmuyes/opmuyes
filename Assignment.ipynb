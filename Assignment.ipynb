{
  "cells": [
    {
      "cell_type": "markdown",
      "metadata": {
        "id": "view-in-github",
        "colab_type": "text"
      },
      "source": [
        "<a href=\"https://colab.research.google.com/github/opmuyes/opmuyes/blob/Assignment/Assignment.ipynb\" target=\"_parent\"><img src=\"https://colab.research.google.com/assets/colab-badge.svg\" alt=\"Open In Colab\"/></a>"
      ]
    },
    {
      "cell_type": "code",
      "execution_count": null,
      "metadata": {
        "id": "sDf7X2O06jkq"
      },
      "outputs": [],
      "source": [
        "import torch\n",
        "from torch import nn\n",
        "\n",
        "import pandas as pd\n",
        "import torchvision\n",
        "from torchvision import datasets, models\n",
        "import torchvision.transforms as transforms\n",
        "import numpy as np\n",
        "import matplotlib.pyplot as plt"
      ]
    },
    {
      "cell_type": "code",
      "source": [
        "from google.colab import drive\n",
        "drive.mount('/content/drive')"
      ],
      "metadata": {
        "id": "l_YKBLWTi77l",
        "colab": {
          "base_uri": "https://localhost:8080/"
        },
        "outputId": "98a49fe3-c526-4d52-b3f4-33c1f1b6599e"
      },
      "execution_count": null,
      "outputs": [
        {
          "output_type": "stream",
          "name": "stdout",
          "text": [
            "Drive already mounted at /content/drive; to attempt to forcibly remount, call drive.mount(\"/content/drive\", force_remount=True).\n"
          ]
        }
      ]
    },
    {
      "cell_type": "code",
      "execution_count": null,
      "metadata": {
        "id": "Vg7UVOeo7Vyu"
      },
      "outputs": [],
      "source": [
        "transform = transforms.Compose(\n",
        "    #  transforms.Augmix(),\n",
        "    #  transforms.CenterCrop(),\n",
        "    [transforms.Resize((224,224)),\n",
        "     transforms.ToTensor(),\n",
        "     transforms.Normalize([0.485,0.456,0.406], [0.229,0.224,0.225])]\n",
        ")\n",
        "data_info = pd.read_csv('/content/drive/MyDrive/Monkey/monkey_labels.txt')\n",
        "train_dir = '/content/drive/MyDrive/Monkey/training'\n",
        "test_dir = '/content/drive/MyDrive/Monkey/validation'\n",
        "\n",
        "train_data = datasets.ImageFolder(root=train_dir,\n",
        "                                  transform = transform)\n",
        "test_data = datasets.ImageFolder(root=test_dir,\n",
        "                                  transform = transform)"
      ]
    },
    {
      "cell_type": "code",
      "source": [
        "# See first training sample\n",
        "img, label=train_data[0]\n",
        "img, label"
      ],
      "metadata": {
        "colab": {
          "base_uri": "https://localhost:8080/"
        },
        "id": "ekikKLcBewRF",
        "outputId": "d821759c-d09d-4931-efaf-e27a235870ef"
      },
      "execution_count": null,
      "outputs": [
        {
          "output_type": "execute_result",
          "data": {
            "text/plain": [
              "(tensor([[[-0.3369, -0.3883, -0.2513,  ...,  1.5810,  1.4098,  0.4166],\n",
              "          [-0.3027, -0.3883, -0.3198,  ...,  1.7180,  0.9646,  0.1597],\n",
              "          [-0.3027, -0.3712, -0.3883,  ...,  1.8037,  1.1700,  0.0741],\n",
              "          ...,\n",
              "          [ 1.6838,  1.6153,  1.5468,  ..., -0.7479,  0.2282, -0.5082],\n",
              "          [ 1.6667,  1.5639,  1.4098,  ..., -0.8678, -0.5767, -0.3712],\n",
              "          [ 1.5982,  1.4269,  1.2043,  ..., -0.6623, -0.3369, -0.0972]],\n",
              " \n",
              "         [[-0.3025, -0.3200, -0.1625,  ...,  1.9034,  1.6408,  0.4503],\n",
              "          [-0.2850, -0.3200, -0.2325,  ...,  2.0434,  1.2731,  0.2752],\n",
              "          [-0.3025, -0.3550, -0.3375,  ...,  2.1310,  1.5532,  0.3102],\n",
              "          ...,\n",
              "          [ 1.9909,  1.9209,  1.8333,  ..., -0.8978,  0.0826, -0.7402],\n",
              "          [ 1.9384,  1.8333,  1.6933,  ..., -1.0553, -0.8102, -0.6702],\n",
              "          [ 1.8683,  1.6933,  1.4657,  ..., -0.8978, -0.6001, -0.4076]],\n",
              " \n",
              "         [[-0.9853, -0.9853, -0.7587,  ...,  0.6356,  0.3742, -1.0376],\n",
              "          [-0.9678, -1.0027, -0.8458,  ...,  0.7751, -0.2010, -1.4210],\n",
              "          [-1.0027, -1.0376, -0.9678,  ...,  0.9494,  0.0256, -1.4559],\n",
              "          ...,\n",
              "          [-0.7761, -0.8284, -0.8807,  ..., -1.3164, -0.3230, -1.1944],\n",
              "          [-0.8284, -0.8981, -1.0027,  ..., -1.5256, -1.2641, -1.2467],\n",
              "          [-0.9156, -1.0550, -1.1944,  ..., -1.5256, -1.2293, -1.0724]]]),\n",
              " 0)"
            ]
          },
          "metadata": {},
          "execution_count": 85
        }
      ]
    },
    {
      "cell_type": "code",
      "execution_count": null,
      "metadata": {
        "colab": {
          "base_uri": "https://localhost:8080/"
        },
        "id": "W7nJqz6ycy-K",
        "outputId": "e673baac-4c86-4bcc-bb8f-b8f2ae02e1ad"
      },
      "outputs": [
        {
          "output_type": "execute_result",
          "data": {
            "text/plain": [
              "[' mantled_howler                ',\n",
              " ' patas_monkey                  ',\n",
              " ' bald_uakari                   ',\n",
              " ' japanese_macaque              ',\n",
              " ' pygmy_marmoset                ',\n",
              " ' white_headed_capuchin         ',\n",
              " ' silvery_marmoset              ',\n",
              " ' common_squirrel_monkey        ',\n",
              " ' black_headed_night_monkey     ',\n",
              " ' nilgiri_langur                ']"
            ]
          },
          "metadata": {},
          "execution_count": 86
        }
      ],
      "source": [
        "# class_names = train_data.classes\n",
        "# class_names\n",
        "labels = list(data_info['Label'])\n",
        "class_names = list(data_info[' Common Name                   '])\n",
        "class_names"
      ]
    },
    {
      "cell_type": "code",
      "source": [
        "from torch.utils.data import DataLoader\n",
        "\n",
        "# Setup the batch size hyperparameter\n",
        "BATCH_SIZE = 5\n",
        "\n",
        "# Turn datasets into iterables (batches)\n",
        "train_dataloader = DataLoader(train_data, # dataset to turn into iterable\n",
        "    batch_size=BATCH_SIZE, # how many samples per batch?\n",
        "    shuffle=True # shuffle data every epoch?\n",
        ")\n",
        "\n",
        "test_dataloader = DataLoader(test_data,\n",
        "    batch_size=BATCH_SIZE,\n",
        "    shuffle=False # don't necessarily have to shuffle the testing data\n",
        ")\n",
        "\n",
        "# Let's check out what we've created\n",
        "print(f\"Dataloaders: {train_dataloader, test_dataloader}\")\n",
        "print(f\"Length of train dataloader: {len(train_dataloader)} batches of {BATCH_SIZE}\")\n",
        "print(f\"Length of test dataloader: {len(test_dataloader)} batches of {BATCH_SIZE}\")"
      ],
      "metadata": {
        "colab": {
          "base_uri": "https://localhost:8080/"
        },
        "id": "xRGX2n2zT0Nn",
        "outputId": "f5bd0eeb-cfb6-4ace-d107-98d6432419c6"
      },
      "execution_count": null,
      "outputs": [
        {
          "output_type": "stream",
          "name": "stdout",
          "text": [
            "Dataloaders: (<torch.utils.data.dataloader.DataLoader object at 0x7c06eb0f2fe0>, <torch.utils.data.dataloader.DataLoader object at 0x7c06eb0f2f80>)\n",
            "Length of train dataloader: 220 batches of 5\n",
            "Length of test dataloader: 55 batches of 5\n"
          ]
        }
      ]
    },
    {
      "cell_type": "code",
      "source": [
        "# Check out what's inside the training dataloader\n",
        "train_imgBatch, train_labelBatch=next(iter(train_dataloader))\n",
        "train_imgBatch.shape, train_labelBatch.shape"
      ],
      "metadata": {
        "colab": {
          "base_uri": "https://localhost:8080/"
        },
        "id": "9Z-IAcL4eDgb",
        "outputId": "00ebf922-aa55-4443-b115-d81a743566c3"
      },
      "execution_count": null,
      "outputs": [
        {
          "output_type": "execute_result",
          "data": {
            "text/plain": [
              "(torch.Size([5, 3, 224, 224]), torch.Size([5]))"
            ]
          },
          "metadata": {},
          "execution_count": 88
        }
      ]
    },
    {
      "cell_type": "code",
      "source": [
        "# Create a flatten layer\n",
        "flatten_layer = nn.Flatten()\n",
        "\n",
        "#flatten 2D to 1D\n",
        "input = flatten_layer(train_imgBatch)\n",
        "\n",
        "input.shape # 3x32x32"
      ],
      "metadata": {
        "colab": {
          "base_uri": "https://localhost:8080/"
        },
        "id": "qFBOhOlteIzs",
        "outputId": "57824786-db41-4e9a-8241-1291871ef893"
      },
      "execution_count": null,
      "outputs": [
        {
          "output_type": "execute_result",
          "data": {
            "text/plain": [
              "torch.Size([5, 150528])"
            ]
          },
          "metadata": {},
          "execution_count": 89
        }
      ]
    },
    {
      "cell_type": "code",
      "source": [
        "linear1 = nn.Linear(in_features=150528,out_features=1000) #from 3072 to 1000\n",
        "linear1_activation = linear1(input)\n",
        "linear1_activation.shape"
      ],
      "metadata": {
        "colab": {
          "base_uri": "https://localhost:8080/"
        },
        "id": "_MDeTscXeNfj",
        "outputId": "d654211e-5a00-4024-fe1d-97471dd0b012"
      },
      "execution_count": null,
      "outputs": [
        {
          "output_type": "execute_result",
          "data": {
            "text/plain": [
              "torch.Size([5, 1000])"
            ]
          },
          "metadata": {},
          "execution_count": 90
        }
      ]
    },
    {
      "cell_type": "code",
      "source": [
        "linear2 = nn.Linear(1000,500) # ambik dari atas,Linear1_activation, bukan input awal\n",
        "linear2_activation = linear2(linear1_activation)\n",
        "linear2_activation.shape"
      ],
      "metadata": {
        "colab": {
          "base_uri": "https://localhost:8080/"
        },
        "id": "NYV_olmqeRKA",
        "outputId": "9f7f2606-c096-4ef1-a9e3-b87e2d50eaca"
      },
      "execution_count": null,
      "outputs": [
        {
          "output_type": "execute_result",
          "data": {
            "text/plain": [
              "torch.Size([5, 500])"
            ]
          },
          "metadata": {},
          "execution_count": 91
        }
      ]
    },
    {
      "cell_type": "code",
      "source": [
        "# Visualize our dataset\n",
        "def show_image(img):\n",
        "    img = img / 2 + 0.5     # unnormalize\n",
        "    npimg = img.numpy()\n",
        "    plt.imshow(np.transpose(npimg, (1, 2, 0)))\n",
        "    plt.show()\n",
        "\n",
        "# get some random training images\n",
        "dataiter = iter(train_dataloader)\n",
        "images, labels = next(dataiter)\n",
        "\n",
        "# show images\n",
        "show_image(torchvision.utils.make_grid(images))\n",
        "# print labels\n",
        "#print(' '.join('%5s' % class_names[labels[j]] for j in range(5)))\n",
        "for j in range(5):\n",
        "    class_name = class_names[labels[j]]\n",
        "    print(f'{class_name:8}', end=' ')\n",
        "print('\\n')\n",
        "for j in range(5):\n",
        "    class_name = class_names[labels[j]]\n",
        "    print(f'{class_name:8s}', end=' ')"
      ],
      "metadata": {
        "colab": {
          "base_uri": "https://localhost:8080/",
          "height": 234
        },
        "id": "TV8ghRlIT9_R",
        "outputId": "9e0b8a4b-ded9-4bb6-c256-078d847ec2c1"
      },
      "execution_count": null,
      "outputs": [
        {
          "output_type": "stream",
          "name": "stderr",
          "text": [
            "WARNING:matplotlib.image:Clipping input data to the valid range for imshow with RGB data ([0..1] for floats or [0..255] for integers).\n"
          ]
        },
        {
          "output_type": "display_data",
          "data": {
            "text/plain": [
              "<Figure size 640x480 with 1 Axes>"
            ],
            "image/png": "[encoded data removed]"
          },
          "metadata": {}
        },
        {
          "output_type": "stream",
          "name": "stdout",
          "text": [
            " mantled_howler                  mantled_howler                  mantled_howler                  mantled_howler                  mantled_howler                 \n",
            "\n",
            " mantled_howler                  mantled_howler                  mantled_howler                  mantled_howler                  mantled_howler                 "
          ]
        }
      ]
    },
    {
      "cell_type": "code",
      "source": [
        "from torch.utils. data import DataLoader\n",
        "\n",
        "train_dataloader=DataLoader(train_data,batch_size=4,shuffle=True)        # Size is 4  # To test our image into batches\n",
        "test_dataloader=DataLoader(test_data,batch_size=4,shuffle=False)"
      ],
      "metadata": {
        "id": "Nfd1qo3PUGCj"
      },
      "execution_count": null,
      "outputs": []
    },
    {
      "cell_type": "code",
      "execution_count": null,
      "metadata": {
        "id": "UCNLSZ6V3XrD",
        "colab": {
          "base_uri": "https://localhost:8080/"
        },
        "outputId": "5917d3c0-d1e6-4504-debc-713c1c553738"
      },
      "outputs": [
        {
          "output_type": "execute_result",
          "data": {
            "text/plain": [
              "<torch._C.Generator at 0x7c07c00794b0>"
            ]
          },
          "metadata": {},
          "execution_count": 94
        }
      ],
      "source": [
        "# # DEFINE OUR MODEL\n",
        "# class CNNModel(nn.Module):\n",
        "#   def __init__(self):\n",
        "#     super(CNNModel,self).__init__()\n",
        "#     self.conv1 = nn.Conv2d(3,6,5)\n",
        "#     self.maxpool1 = nn.MaxPool2d(kernel_size=2,stride=2)\n",
        "#     self.maxpool2 = nn.MaxPool2d(kernel_size=2,stride=2)\n",
        "\n",
        "#     self.conv2 = nn.Conv2d(6,16,5)\n",
        "\n",
        "#     self.conv3 = nn.Conv2d(16,20,3)\n",
        "\n",
        "#     self.fc1 = nn.Linear(5*5*20,100)\n",
        "#     self.fc2 = nn.Linear(100,10)\n",
        "#     self.relu = nn.ReLU()\n",
        "#     self.flatten = nn.Flatten()\n",
        "#     self.batchnorm1 = nn.BatchNorm2d(6)\n",
        "#     self.batchnorm2 = nn.BatchNorm2d(16)\n",
        "#     self.dropout = nn.Dropout(0.4)\n",
        "\n",
        "#   def forward(self,x):\n",
        "#     x = self.conv1(x)\n",
        "#     x = self.relu(x)\n",
        "#     x = self.batchnorm1(x)\n",
        "#     x = self.maxpool1(x)\n",
        "\n",
        "#     x = self.conv2(x)\n",
        "#     x = self.relu(x)\n",
        "#     x = self.batchnorm2(x)\n",
        "#     x = self.maxpool2(x)\n",
        "\n",
        "#     x = self.conv3(x)\n",
        "#     x = self.relu(x)\n",
        "#     x = self.flatten(x)\n",
        "#     x = self.fc1(x)\n",
        "#     x = self.dropout(x)\n",
        "#     x = self.relu(x)\n",
        "#     out = self.fc2(x)\n",
        "\n",
        "#     return out\n",
        "class CNNModel(nn.Module):\n",
        "    def __init__(self):\n",
        "        super(CNNModel, self).__init__()\n",
        "\n",
        "        # Convolutional layers\n",
        "        self.conv1 = nn.Conv2d(in_channels=3, out_channels=16, kernel_size=3, stride=1, padding=1)\n",
        "        self.pool = nn.MaxPool2d(2, 2)\n",
        "        self.conv2 = nn.Conv2d(16, 32, 3, stride=1, padding=1)\n",
        "\n",
        "        # Fully connected layers\n",
        "        # Assuming 56x56 spatial dimensions after pooling\n",
        "        self.fc1 = nn.Linear(32 * 56 * 56, 128)\n",
        "        self.fc2 = nn.Linear(128, 26)  # Adjusted for 26 classes\n",
        "\n",
        "        # Activation function\n",
        "        self.relu = nn.ReLU()\n",
        "\n",
        "    def forward(self, x):\n",
        "        # Convolutional layers\n",
        "        x = self.pool(self.relu(self.conv1(x)))\n",
        "        x = self.pool(self.relu(self.conv2(x)))\n",
        "\n",
        "        # Flatten before fully connected layers\n",
        "        x = x.view(-1, 32 * 56 * 56)\n",
        "\n",
        "        # Fully connected layers with ReLU activation\n",
        "        x = self.relu(self.fc1(x))\n",
        "        x = self.fc2(x)\n",
        "\n",
        "        return x\n",
        "\n",
        "torch.manual_seed(42)"
      ]
    },
    {
      "cell_type": "code",
      "execution_count": null,
      "metadata": {
        "id": "d0eLfce0_uKc"
      },
      "outputs": [],
      "source": [
        " model = CNNModel()"
      ]
    },
    {
      "cell_type": "code",
      "source": [
        "!pip install torchinfo"
      ],
      "metadata": {
        "colab": {
          "base_uri": "https://localhost:8080/"
        },
        "id": "Plt0b2Ecc61V",
        "outputId": "ae9fc45c-2db6-4809-9b8c-e91057847492"
      },
      "execution_count": null,
      "outputs": [
        {
          "output_type": "stream",
          "name": "stdout",
          "text": [
            "Requirement already satisfied: torchinfo in /usr/local/lib/python3.10/dist-packages (1.8.0)\n"
          ]
        }
      ]
    },
    {
      "cell_type": "code",
      "source": [
        "from torchinfo import summary\n",
        "\n",
        "summary(model = model)"
      ],
      "metadata": {
        "colab": {
          "base_uri": "https://localhost:8080/"
        },
        "id": "qbzEYknMTvVJ",
        "outputId": "31f82331-bc3c-4402-8a1b-0f42e789cfa6"
      },
      "execution_count": null,
      "outputs": [
        {
          "output_type": "execute_result",
          "data": {
            "text/plain": [
              "=================================================================\n",
              "Layer (type:depth-idx)                   Param #\n",
              "=================================================================\n",
              "CNNModel                                 --\n",
              "├─Conv2d: 1-1                            448\n",
              "├─MaxPool2d: 1-2                         --\n",
              "├─Conv2d: 1-3                            4,640\n",
              "├─Linear: 1-4                            12,845,184\n",
              "├─Linear: 1-5                            3,354\n",
              "├─ReLU: 1-6                              --\n",
              "=================================================================\n",
              "Total params: 12,853,626\n",
              "Trainable params: 12,853,626\n",
              "Non-trainable params: 0\n",
              "================================================================="
            ]
          },
          "metadata": {},
          "execution_count": 97
        }
      ]
    },
    {
      "cell_type": "code",
      "source": [
        "!pip install torch_optimizer\n",
        "# import torch.optim.lr_scheduler as lr_scheduler\n",
        "\n",
        "from torch.optim.lr_scheduler import CosineAnnealingLR"
      ],
      "metadata": {
        "id": "w5qXxsy-fIsP",
        "colab": {
          "base_uri": "https://localhost:8080/"
        },
        "outputId": "3171bd5a-3f17-4dec-c64b-b80afe6fc216"
      },
      "execution_count": null,
      "outputs": [
        {
          "output_type": "stream",
          "name": "stdout",
          "text": [
            "Requirement already satisfied: torch_optimizer in /usr/local/lib/python3.10/dist-packages (0.3.0)\n",
            "Requirement already satisfied: torch>=1.5.0 in /usr/local/lib/python3.10/dist-packages (from torch_optimizer) (2.1.0+cu121)\n",
            "Requirement already satisfied: pytorch-ranger>=0.1.1 in /usr/local/lib/python3.10/dist-packages (from torch_optimizer) (0.1.1)\n",
            "Requirement already satisfied: filelock in /usr/local/lib/python3.10/dist-packages (from torch>=1.5.0->torch_optimizer) (3.13.1)\n",
            "Requirement already satisfied: typing-extensions in /usr/local/lib/python3.10/dist-packages (from torch>=1.5.0->torch_optimizer) (4.5.0)\n",
            "Requirement already satisfied: sympy in /usr/local/lib/python3.10/dist-packages (from torch>=1.5.0->torch_optimizer) (1.12)\n",
            "Requirement already satisfied: networkx in /usr/local/lib/python3.10/dist-packages (from torch>=1.5.0->torch_optimizer) (3.2.1)\n",
            "Requirement already satisfied: jinja2 in /usr/local/lib/python3.10/dist-packages (from torch>=1.5.0->torch_optimizer) (3.1.2)\n",
            "Requirement already satisfied: fsspec in /usr/local/lib/python3.10/dist-packages (from torch>=1.5.0->torch_optimizer) (2023.6.0)\n",
            "Requirement already satisfied: triton==2.1.0 in /usr/local/lib/python3.10/dist-packages (from torch>=1.5.0->torch_optimizer) (2.1.0)\n",
            "Requirement already satisfied: MarkupSafe>=2.0 in /usr/local/lib/python3.10/dist-packages (from jinja2->torch>=1.5.0->torch_optimizer) (2.1.3)\n",
            "Requirement already satisfied: mpmath>=0.19 in /usr/local/lib/python3.10/dist-packages (from sympy->torch>=1.5.0->torch_optimizer) (1.3.0)\n"
          ]
        }
      ]
    },
    {
      "cell_type": "code",
      "source": [
        "# # Cross-entropy loss\n",
        "# loss_fn = nn.CrossEntropyLoss()\n",
        "# optimizer = torch.optim.SGD(model.parameters(),lr=0.001,momentum=0.9)\n",
        "\n",
        "# # Define the optimizer\n",
        "# optimizer = optim.SGD(model.parameters(), lr=0.1)\n",
        "\n",
        "# # Define the scheduler\n",
        "# scheduler = optim.lr_scheduler.ExponentialLR(optimizer, gamma=0.9)\n",
        "\n",
        "optimizer = optim.SGD(model.parameters(), lr=0.1, momentum=0.9, weight_decay=5e-4)\n",
        "scheduler = CosineAnnealingLR(optimizer, T_max=200, eta_min=0.0001, last_epoch=-1)\n"
      ],
      "metadata": {
        "id": "K_tV0hOETubH"
      },
      "execution_count": null,
      "outputs": []
    },
    {
      "cell_type": "code",
      "source": [
        "model.to('cuda')"
      ],
      "metadata": {
        "colab": {
          "base_uri": "https://localhost:8080/"
        },
        "id": "TKtViY-NfwZ-",
        "outputId": "38084b05-82cd-4db2-b6e9-14853dd5632c"
      },
      "execution_count": null,
      "outputs": [
        {
          "output_type": "execute_result",
          "data": {
            "text/plain": [
              "CNNModel(\n",
              "  (conv1): Conv2d(3, 16, kernel_size=(3, 3), stride=(1, 1), padding=(1, 1))\n",
              "  (pool): MaxPool2d(kernel_size=2, stride=2, padding=0, dilation=1, ceil_mode=False)\n",
              "  (conv2): Conv2d(16, 32, kernel_size=(3, 3), stride=(1, 1), padding=(1, 1))\n",
              "  (fc1): Linear(in_features=100352, out_features=128, bias=True)\n",
              "  (fc2): Linear(in_features=128, out_features=26, bias=True)\n",
              "  (relu): ReLU()\n",
              ")"
            ]
          },
          "metadata": {},
          "execution_count": 100
        }
      ]
    },
    {
      "cell_type": "code",
      "execution_count": null,
      "metadata": {
        "id": "nmi5k5CD-ZS4"
      },
      "outputs": [],
      "source": [
        "import time\n",
        "from tqdm.auto import tqdm\n",
        "\n",
        "def train_and_validate(model, loss_criterion, optimizer, train_dataloader, test_dataloader, epochs=25, device='cuda'):\n",
        "    '''\n",
        "    Function to train and validate\n",
        "    Parameters\n",
        "        :param model: Model to train and validate\n",
        "        :param loss_criterion: Loss Criterion to minimize\n",
        "        :param optimizer: Optimizer for computing gradients\n",
        "        :param train_dataloader: DataLoader for training data\n",
        "        :param test_dataloader: DataLoader for test/validation data\n",
        "        :param epochs: Number of epochs (default=25)\n",
        "        :param device: Device to perform computations ('cuda' or 'cpu')\n",
        "\n",
        "    Returns\n",
        "        model: Trained Model with best validation accuracy\n",
        "        history: (dict object): Having training loss, accuracy and validation loss, accuracy\n",
        "    '''\n",
        "\n",
        "    start = time.time()\n",
        "    history = []\n",
        "    best_acc = 0.0\n",
        "\n",
        "    for epoch in tqdm(range(epochs)):\n",
        "        epoch_start = time.time()\n",
        "        print(\"Epoch: {}/{}\".format(epoch+1, epochs))\n",
        "\n",
        "        model.train()\n",
        "\n",
        "        train_loss = 0.0\n",
        "        train_acc = 0.0\n",
        "\n",
        "        valid_loss = 0.0\n",
        "        valid_acc = 0.0\n",
        "\n",
        "        for i, (inputs, labels) in enumerate(train_dataloader):\n",
        "\n",
        "            inputs = inputs.to(device)\n",
        "            labels = labels.to(device)\n",
        "\n",
        "            # Clean existing gradients\n",
        "            optimizer.zero_grad()\n",
        "\n",
        "            # Forward pass - compute outputs on input data using the model\n",
        "            outputs = model(inputs)\n",
        "\n",
        "            # Compute loss\n",
        "            loss = loss_criterion(outputs, labels)\n",
        "\n",
        "            # Backpropagate the gradients\n",
        "            loss.backward()\n",
        "\n",
        "            # Update the parameters\n",
        "            optimizer.step()\n",
        "\n",
        "            # Update the learning rate\n",
        "            scheduler.step()\n",
        "\n",
        "            # Compute the total loss for the batch and add it to train_loss\n",
        "            train_loss += loss.item() * inputs.size(0)\n",
        "\n",
        "            # Compute the accuracy\n",
        "            ret, predictions = torch.max(outputs.data, 1)\n",
        "            correct_counts = predictions.eq(labels.data.view_as(predictions))\n",
        "\n",
        "            # Convert correct_counts to float and then compute the mean\n",
        "            acc = torch.mean(correct_counts.type(torch.FloatTensor))\n",
        "\n",
        "            # Compute total accuracy in the whole batch and add to train_acc\n",
        "            train_acc += acc.item() * inputs.size(0)\n",
        "\n",
        "        # Validation - No gradient tracking needed\n",
        "        with torch.no_grad():\n",
        "\n",
        "            model.eval()\n",
        "\n",
        "            # Validation loop\n",
        "            for j, (inputs, labels) in enumerate(test_dataloader):\n",
        "                inputs = inputs.to(device)\n",
        "                labels = labels.to(device)\n",
        "\n",
        "                # Forward pass - compute outputs on input data using the model\n",
        "                outputs = model(inputs)\n",
        "\n",
        "                # Compute loss\n",
        "                loss = loss_criterion(outputs, labels)\n",
        "\n",
        "                # Compute the total loss for the batch and add it to valid_loss\n",
        "                valid_loss += loss.item() * inputs.size(0)\n",
        "\n",
        "                # Calculate validation accuracy\n",
        "                ret, predictions = torch.max(outputs.data, 1)\n",
        "                correct_counts = predictions.eq(labels.data.view_as(predictions))\n",
        "\n",
        "                # Convert correct_counts to float and then compute the mean\n",
        "                acc = torch.mean(correct_counts.type(torch.FloatTensor))\n",
        "\n",
        "                # Compute total accuracy in the whole batch and add to valid_acc\n",
        "                valid_acc += acc.item() * inputs.size(0)\n",
        "\n",
        "\n",
        "        # Find average training loss and training accuracy\n",
        "        avg_train_loss = train_loss / len(train_dataloader.dataset)\n",
        "        avg_train_acc = train_acc / len(train_dataloader.dataset)\n",
        "\n",
        "        # Find average validation loss and training accuracy\n",
        "        avg_test_loss = valid_loss / len(test_dataloader.dataset)\n",
        "        avg_test_acc = valid_acc / len(test_dataloader.dataset)\n",
        "\n",
        "        history.append([avg_train_loss, avg_test_loss, avg_train_acc, avg_test_acc])\n",
        "\n",
        "        epoch_end = time.time()\n",
        "\n",
        "        print(\"Epoch : {:03d}, Training: Loss: {:.4f}, Accuracy: {:.4f}%, \\n\\t\\tValidation : Loss : {:.4f}, Accuracy: {:.4f}%, Time: {:.4f}s\".format(epoch, avg_train_loss, avg_train_acc * 100, avg_test_loss, avg_test_acc * 100, epoch_end - epoch_start))\n",
        "\n",
        "        # Save if the model has best accuracy till now\n",
        "        if avg_test_acc > best_acc:\n",
        "            best_acc = avg_test_acc\n",
        "            best_model = model\n",
        "            torch.save(best_model, 'best_model.pt')\n",
        "\n",
        "    return best_model, history\n",
        "\n"
      ]
    },
    {
      "cell_type": "code",
      "execution_count": null,
      "metadata": {
        "id": "BfuX26u3232t",
        "colab": {
          "base_uri": "https://localhost:8080/",
          "height": 570,
          "referenced_widgets": [
            "7ea5d194872e443f97792f70e605327f",
            "2f57d28f76e047e5aeadde84fc08fd26",
            "e9597fb4774545b18ef031c586d193ff",
            "c299e115fae2432197d5bff87415732e",
            "5759320694084398be085f7608c6bfdf",
            "cdee246b87014881aa9e9f5f9f9cd6bb",
            "e9ed9ad02f9d48589a95fed53070c903",
            "085a6b7f98b0407aa8cd7b2ac4d0ac31",
            "52977781409445efbf608b0a7696507c",
            "d8d932ba070848a28042ae33b49a161c",
            "0d87aa3d88a04e7a96e2a308508d307d"
          ]
        },
        "outputId": "330b5adc-f01e-4f71-f26e-92e9c7335955"
      },
      "outputs": [
        {
          "output_type": "display_data",
          "data": {
            "text/plain": [
              "  0%|          | 0/10 [00:00<?, ?it/s]"
            ],
            "application/vnd.jupyter.widget-view+json": {
              "version_major": 2,
              "version_minor": 0,
              "model_id": "7ea5d194872e443f97792f70e605327f"
            }
          },
          "metadata": {}
        },
        {
          "output_type": "stream",
          "name": "stdout",
          "text": [
            "Epoch: 1/10\n",
            "Epoch : 000, Training: Loss: 0.0121, Accuracy: 99.6354%, \n",
            "\t\tValidation : Loss : 0.0000, Accuracy: 100.0000%, Time: 48.5397s\n",
            "Epoch: 2/10\n",
            "Epoch : 001, Training: Loss: 0.0000, Accuracy: 100.0000%, \n",
            "\t\tValidation : Loss : 0.0000, Accuracy: 100.0000%, Time: 38.2627s\n",
            "Epoch: 3/10\n",
            "Epoch : 002, Training: Loss: 0.0000, Accuracy: 100.0000%, \n",
            "\t\tValidation : Loss : 0.0000, Accuracy: 100.0000%, Time: 39.2706s\n",
            "Epoch: 4/10\n",
            "Epoch : 003, Training: Loss: 0.0000, Accuracy: 100.0000%, \n",
            "\t\tValidation : Loss : 0.0000, Accuracy: 100.0000%, Time: 37.3674s\n",
            "Epoch: 5/10\n",
            "Epoch : 004, Training: Loss: 0.0000, Accuracy: 100.0000%, \n",
            "\t\tValidation : Loss : 0.0000, Accuracy: 100.0000%, Time: 38.1985s\n",
            "Epoch: 6/10\n",
            "Epoch : 005, Training: Loss: 0.0000, Accuracy: 100.0000%, \n",
            "\t\tValidation : Loss : 0.0000, Accuracy: 100.0000%, Time: 37.2194s\n",
            "Epoch: 7/10\n",
            "Epoch : 006, Training: Loss: 0.0000, Accuracy: 100.0000%, \n",
            "\t\tValidation : Loss : 0.0000, Accuracy: 100.0000%, Time: 38.6742s\n",
            "Epoch: 8/10\n",
            "Epoch : 007, Training: Loss: 0.0000, Accuracy: 100.0000%, \n",
            "\t\tValidation : Loss : 0.0000, Accuracy: 100.0000%, Time: 37.4170s\n",
            "Epoch: 9/10\n",
            "Epoch : 008, Training: Loss: 0.0000, Accuracy: 100.0000%, \n",
            "\t\tValidation : Loss : 0.0000, Accuracy: 100.0000%, Time: 39.6734s\n",
            "Epoch: 10/10\n",
            "Epoch : 009, Training: Loss: 0.0000, Accuracy: 100.0000%, \n",
            "\t\tValidation : Loss : 0.0000, Accuracy: 100.0000%, Time: 38.4668s\n"
          ]
        }
      ],
      "source": [
        "num_epochs = 10\n",
        "trained_CNNmodel, history = train_and_validate(model,loss_fn,optimizer,\n",
        "                                            train_dataloader,test_dataloader,\n",
        "                                            num_epochs)"
      ]
    },
    {
      "cell_type": "code",
      "source": [
        "#Analyze the loss curve\n",
        "\n",
        "def plot_loss(history):\n",
        "  history = np.array(history)\n",
        "  plt.plot(history[:,0:2])\n",
        "  plt.legend(['Tr Loss', 'Val Loss'])\n",
        "  plt.xlabel('Epoch Number')\n",
        "  plt.ylabel('Loss')\n",
        "  plt.ylim(0,3)\n",
        "  # plt.savefig('cifar10_loss_curve.png')\n",
        "  plt.show()\n",
        "\n",
        "plot_loss(history)"
      ],
      "metadata": {
        "id": "-dsczjv5fKGZ",
        "colab": {
          "base_uri": "https://localhost:8080/",
          "height": 455
        },
        "outputId": "e4013959-b6f0-4f0e-bd51-1915837229ca"
      },
      "execution_count": null,
      "outputs": [
        {
          "output_type": "display_data",
          "data": {
            "text/plain": [
              "<Figure size 640x480 with 1 Axes>"
            ],
            "image/png": "[encoded data removed]"
          },
          "metadata": {}
        }
      ]
    },
    {
      "cell_type": "code",
      "source": [
        "def plot_accuracy(history):\n",
        "  history = np.array(history)\n",
        "  plt.plot(history[:,2:4])\n",
        "  plt.legend(['Tr Accuracy', 'Val Accuracy'])\n",
        "  plt.xlabel('Epoch Number')\n",
        "  plt.ylabel('Accuracy')\n",
        "  plt.ylim(0,1)\n",
        "  # plt.savefig('cifar10_accuracy_curve.png')\n",
        "  plt.show()\n",
        "\n",
        "plot_accuracy(history)"
      ],
      "metadata": {
        "id": "4IiWZPH_fK4U",
        "colab": {
          "base_uri": "https://localhost:8080/",
          "height": 455
        },
        "outputId": "944b3cc6-0746-4dac-a0c8-eca4ac8d462d"
      },
      "execution_count": null,
      "outputs": [
        {
          "output_type": "display_data",
          "data": {
            "text/plain": [
              "<Figure size 640x480 with 1 Axes>"
            ],
            "image/png": "[encoded data removed]"
          },
          "metadata": {}
        }
      ]
    },
    {
      "cell_type": "code",
      "source": [
        "# from sklearn.metrics import confusion_matrix\n",
        "# import seaborn as sn\n",
        "# import pandas as pd\n",
        "\n",
        "# def plot_confusionMatrix(model_pretrained, test_dataloader):\n",
        "\n",
        "#   y_pred = []\n",
        "#   y_true = []\n",
        "\n",
        "#   model.to('cpu')\n",
        "\n",
        "#   # iterate over test data\n",
        "#   for inputs, labels in test_dataloader:\n",
        "#           output = model(inputs) # Feed Network\n",
        "\n",
        "#           output = (torch.max(torch.exp(output), 1)[1]).data.cpu().numpy()\n",
        "#           y_pred.extend(output) # Save Prediction\n",
        "\n",
        "#           labels = labels.data.cpu().numpy()\n",
        "#           y_true.extend(labels) # Save Truth\n",
        "\n",
        "#   # Build confusion matrix\n",
        "#   cf_matrix = confusion_matrix(y_true, y_pred)\n",
        "#   df_cm = pd.DataFrame(cf_matrix/np.sum(cf_matrix) *10, index = [i for i in class_names],\n",
        "#                       columns = [i for i in class_names])\n",
        "#   plt.figure(figsize = (20,10))\n",
        "#   sn.heatmap(df_cm, annot=True)\n",
        "#   # plt.savefig('output.png')\n",
        "\n",
        "# plot_confusionMatrix(model, test_dataloader)"
      ],
      "metadata": {
        "id": "o5OmutEVfR7G"
      },
      "execution_count": null,
      "outputs": []
    }
  ],
  "metadata": {
    "accelerator": "GPU",
    "colab": {
      "provenance": [],
      "gpuType": "T4",
      "include_colab_link": true
    },
    "kernelspec": {
      "display_name": "Python 3",
      "name": "python3"
    },
    "language_info": {
      "name": "python"
    },
    "widgets": {
      "application/vnd.jupyter.widget-state+json": {
        "7ea5d194872e443f97792f70e605327f": {
          "model_module": "@jupyter-widgets/controls",
          "model_name": "HBoxModel",
          "model_module_version": "1.5.0",
          "state": {
            "_dom_classes": [],
            "_model_module": "@jupyter-widgets/controls",
            "_model_module_version": "1.5.0",
            "_model_name": "HBoxModel",
            "_view_count": null,
            "_view_module": "@jupyter-widgets/controls",
            "_view_module_version": "1.5.0",
            "_view_name": "HBoxView",
            "box_style": "",
            "children": [
              "IPY_MODEL_2f57d28f76e047e5aeadde84fc08fd26",
              "IPY_MODEL_e9597fb4774545b18ef031c586d193ff",
              "IPY_MODEL_c299e115fae2432197d5bff87415732e"
            ],
            "layout": "IPY_MODEL_5759320694084398be085f7608c6bfdf"
          }
        },
        "2f57d28f76e047e5aeadde84fc08fd26": {
          "model_module": "@jupyter-widgets/controls",
          "model_name": "HTMLModel",
          "model_module_version": "1.5.0",
          "state": {
            "_dom_classes": [],
            "_model_module": "@jupyter-widgets/controls",
            "_model_module_version": "1.5.0",
            "_model_name": "HTMLModel",
            "_view_count": null,
            "_view_module": "@jupyter-widgets/controls",
            "_view_module_version": "1.5.0",
            "_view_name": "HTMLView",
            "description": "",
            "description_tooltip": null,
            "layout": "IPY_MODEL_cdee246b87014881aa9e9f5f9f9cd6bb",
            "placeholder": "​",
            "style": "IPY_MODEL_e9ed9ad02f9d48589a95fed53070c903",
            "value": "100%"
          }
        },
        "e9597fb4774545b18ef031c586d193ff": {
          "model_module": "@jupyter-widgets/controls",
          "model_name": "FloatProgressModel",
          "model_module_version": "1.5.0",
          "state": {
            "_dom_classes": [],
            "_model_module": "@jupyter-widgets/controls",
            "_model_module_version": "1.5.0",
            "_model_name": "FloatProgressModel",
            "_view_count": null,
            "_view_module": "@jupyter-widgets/controls",
            "_view_module_version": "1.5.0",
            "_view_name": "ProgressView",
            "bar_style": "success",
            "description": "",
            "description_tooltip": null,
            "layout": "IPY_MODEL_085a6b7f98b0407aa8cd7b2ac4d0ac31",
            "max": 10,
            "min": 0,
            "orientation": "horizontal",
            "style": "IPY_MODEL_52977781409445efbf608b0a7696507c",
            "value": 10
          }
        },
        "c299e115fae2432197d5bff87415732e": {
          "model_module": "@jupyter-widgets/controls",
          "model_name": "HTMLModel",
          "model_module_version": "1.5.0",
          "state": {
            "_dom_classes": [],
            "_model_module": "@jupyter-widgets/controls",
            "_model_module_version": "1.5.0",
            "_model_name": "HTMLModel",
            "_view_count": null,
            "_view_module": "@jupyter-widgets/controls",
            "_view_module_version": "1.5.0",
            "_view_name": "HTMLView",
            "description": "",
            "description_tooltip": null,
            "layout": "IPY_MODEL_d8d932ba070848a28042ae33b49a161c",
            "placeholder": "​",
            "style": "IPY_MODEL_0d87aa3d88a04e7a96e2a308508d307d",
            "value": " 10/10 [06:33&lt;00:00, 38.59s/it]"
          }
        },
        "5759320694084398be085f7608c6bfdf": {
          "model_module": "@jupyter-widgets/base",
          "model_name": "LayoutModel",
          "model_module_version": "1.2.0",
          "state": {
            "_model_module": "@jupyter-widgets/base",
            "_model_module_version": "1.2.0",
            "_model_name": "LayoutModel",
            "_view_count": null,
            "_view_module": "@jupyter-widgets/base",
            "_view_module_version": "1.2.0",
            "_view_name": "LayoutView",
            "align_content": null,
            "align_items": null,
            "align_self": null,
            "border": null,
            "bottom": null,
            "display": null,
            "flex": null,
            "flex_flow": null,
            "grid_area": null,
            "grid_auto_columns": null,
            "grid_auto_flow": null,
            "grid_auto_rows": null,
            "grid_column": null,
            "grid_gap": null,
            "grid_row": null,
            "grid_template_areas": null,
            "grid_template_columns": null,
            "grid_template_rows": null,
            "height": null,
            "justify_content": null,
            "justify_items": null,
            "left": null,
            "margin": null,
            "max_height": null,
            "max_width": null,
            "min_height": null,
            "min_width": null,
            "object_fit": null,
            "object_position": null,
            "order": null,
            "overflow": null,
            "overflow_x": null,
            "overflow_y": null,
            "padding": null,
            "right": null,
            "top": null,
            "visibility": null,
            "width": null
          }
        },
        "cdee246b87014881aa9e9f5f9f9cd6bb": {
          "model_module": "@jupyter-widgets/base",
          "model_name": "LayoutModel",
          "model_module_version": "1.2.0",
          "state": {
            "_model_module": "@jupyter-widgets/base",
            "_model_module_version": "1.2.0",
            "_model_name": "LayoutModel",
            "_view_count": null,
            "_view_module": "@jupyter-widgets/base",
            "_view_module_version": "1.2.0",
            "_view_name": "LayoutView",
            "align_content": null,
            "align_items": null,
            "align_self": null,
            "border": null,
            "bottom": null,
            "display": null,
            "flex": null,
            "flex_flow": null,
            "grid_area": null,
            "grid_auto_columns": null,
            "grid_auto_flow": null,
            "grid_auto_rows": null,
            "grid_column": null,
            "grid_gap": null,
            "grid_row": null,
            "grid_template_areas": null,
            "grid_template_columns": null,
            "grid_template_rows": null,
            "height": null,
            "justify_content": null,
            "justify_items": null,
            "left": null,
            "margin": null,
            "max_height": null,
            "max_width": null,
            "min_height": null,
            "min_width": null,
            "object_fit": null,
            "object_position": null,
            "order": null,
            "overflow": null,
            "overflow_x": null,
            "overflow_y": null,
            "padding": null,
            "right": null,
            "top": null,
            "visibility": null,
            "width": null
          }
        },
        "e9ed9ad02f9d48589a95fed53070c903": {
          "model_module": "@jupyter-widgets/controls",
          "model_name": "DescriptionStyleModel",
          "model_module_version": "1.5.0",
          "state": {
            "_model_module": "@jupyter-widgets/controls",
            "_model_module_version": "1.5.0",
            "_model_name": "DescriptionStyleModel",
            "_view_count": null,
            "_view_module": "@jupyter-widgets/base",
            "_view_module_version": "1.2.0",
            "_view_name": "StyleView",
            "description_width": ""
          }
        },
        "085a6b7f98b0407aa8cd7b2ac4d0ac31": {
          "model_module": "@jupyter-widgets/base",
          "model_name": "LayoutModel",
          "model_module_version": "1.2.0",
          "state": {
            "_model_module": "@jupyter-widgets/base",
            "_model_module_version": "1.2.0",
            "_model_name": "LayoutModel",
            "_view_count": null,
            "_view_module": "@jupyter-widgets/base",
            "_view_module_version": "1.2.0",
            "_view_name": "LayoutView",
            "align_content": null,
            "align_items": null,
            "align_self": null,
            "border": null,
            "bottom": null,
            "display": null,
            "flex": null,
            "flex_flow": null,
            "grid_area": null,
            "grid_auto_columns": null,
            "grid_auto_flow": null,
            "grid_auto_rows": null,
            "grid_column": null,
            "grid_gap": null,
            "grid_row": null,
            "grid_template_areas": null,
            "grid_template_columns": null,
            "grid_template_rows": null,
            "height": null,
            "justify_content": null,
            "justify_items": null,
            "left": null,
            "margin": null,
            "max_height": null,
            "max_width": null,
            "min_height": null,
            "min_width": null,
            "object_fit": null,
            "object_position": null,
            "order": null,
            "overflow": null,
            "overflow_x": null,
            "overflow_y": null,
            "padding": null,
            "right": null,
            "top": null,
            "visibility": null,
            "width": null
          }
        },
        "52977781409445efbf608b0a7696507c": {
          "model_module": "@jupyter-widgets/controls",
          "model_name": "ProgressStyleModel",
          "model_module_version": "1.5.0",
          "state": {
            "_model_module": "@jupyter-widgets/controls",
            "_model_module_version": "1.5.0",
            "_model_name": "ProgressStyleModel",
            "_view_count": null,
            "_view_module": "@jupyter-widgets/base",
            "_view_module_version": "1.2.0",
            "_view_name": "StyleView",
            "bar_color": null,
            "description_width": ""
          }
        },
        "d8d932ba070848a28042ae33b49a161c": {
          "model_module": "@jupyter-widgets/base",
          "model_name": "LayoutModel",
          "model_module_version": "1.2.0",
          "state": {
            "_model_module": "@jupyter-widgets/base",
            "_model_module_version": "1.2.0",
            "_model_name": "LayoutModel",
            "_view_count": null,
            "_view_module": "@jupyter-widgets/base",
            "_view_module_version": "1.2.0",
            "_view_name": "LayoutView",
            "align_content": null,
            "align_items": null,
            "align_self": null,
            "border": null,
            "bottom": null,
            "display": null,
            "flex": null,
            "flex_flow": null,
            "grid_area": null,
            "grid_auto_columns": null,
            "grid_auto_flow": null,
            "grid_auto_rows": null,
            "grid_column": null,
            "grid_gap": null,
            "grid_row": null,
            "grid_template_areas": null,
            "grid_template_columns": null,
            "grid_template_rows": null,
            "height": null,
            "justify_content": null,
            "justify_items": null,
            "left": null,
            "margin": null,
            "max_height": null,
            "max_width": null,
            "min_height": null,
            "min_width": null,
            "object_fit": null,
            "object_position": null,
            "order": null,
            "overflow": null,
            "overflow_x": null,
            "overflow_y": null,
            "padding": null,
            "right": null,
            "top": null,
            "visibility": null,
            "width": null
          }
        },
        "0d87aa3d88a04e7a96e2a308508d307d": {
          "model_module": "@jupyter-widgets/controls",
          "model_name": "DescriptionStyleModel",
          "model_module_version": "1.5.0",
          "state": {
            "_model_module": "@jupyter-widgets/controls",
            "_model_module_version": "1.5.0",
            "_model_name": "DescriptionStyleModel",
            "_view_count": null,
            "_view_module": "@jupyter-widgets/base",
            "_view_module_version": "1.2.0",
            "_view_name": "StyleView",
            "description_width": ""
          }
        }
      }
    }
  },
  "nbformat": 4,
  "nbformat_minor": 0
}